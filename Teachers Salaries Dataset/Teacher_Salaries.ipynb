{
 "cells": [
  {
   "cell_type": "markdown",
   "id": "fb3ce119-02c8-4eab-85fd-24386f824c40",
   "metadata": {},
   "source": [
    "## Simple Linear Regression"
   ]
  },
  {
   "cell_type": "markdown",
   "id": "65a801ff-9515-4013-8405-0a5bc004da8a",
   "metadata": {},
   "source": [
    "We are going to consider salaries of teachers which based on years of experience.\n",
    "\n",
    "We'll build a linear regression model to predict 'salary' using 'years of experience' as the predictor variable.\n"
   ]
  },
  {
   "cell_type": "code",
   "execution_count": 57,
   "id": "4bce3513-940e-49c8-a905-db0a0d7f2ae5",
   "metadata": {},
   "outputs": [],
   "source": [
    "#Let's import some libraries \n",
    "import numpy as np\n",
    "import pandas as pd\n",
    "import matplotlib.pyplot as plt\n",
    "%matplotlib inline\n",
    "import seaborn as sns\n",
    "from sklearn.linear_model import LinearRegression\n",
    "from sklearn.model_selection import train_test_split\n",
    "from sklearn.metrics import r2_score\n",
    "from sklearn.metrics import mean_squared_error\n",
    "import math"
   ]
  },
  {
   "cell_type": "code",
   "execution_count": 58,
   "id": "91a332c5-aee3-4dfc-a841-f4179531b730",
   "metadata": {},
   "outputs": [],
   "source": [
    "#Read the file\n",
    "df=pd.read_csv(r\"C:\\Users\\Lenovo\\Desktop\\Salary.csv\")"
   ]
  },
  {
   "cell_type": "code",
   "execution_count": 59,
   "id": "fb3dec8e-9f92-4214-8615-a016dbbd250d",
   "metadata": {},
   "outputs": [
    {
     "data": {
      "text/html": [
       "<div>\n",
       "<style scoped>\n",
       "    .dataframe tbody tr th:only-of-type {\n",
       "        vertical-align: middle;\n",
       "    }\n",
       "\n",
       "    .dataframe tbody tr th {\n",
       "        vertical-align: top;\n",
       "    }\n",
       "\n",
       "    .dataframe thead th {\n",
       "        text-align: right;\n",
       "    }\n",
       "</style>\n",
       "<table border=\"1\" class=\"dataframe\">\n",
       "  <thead>\n",
       "    <tr style=\"text-align: right;\">\n",
       "      <th></th>\n",
       "      <th>Years_of_Experience</th>\n",
       "      <th>Salary</th>\n",
       "    </tr>\n",
       "  </thead>\n",
       "  <tbody>\n",
       "    <tr>\n",
       "      <th>0</th>\n",
       "      <td>1</td>\n",
       "      <td>45000</td>\n",
       "    </tr>\n",
       "    <tr>\n",
       "      <th>1</th>\n",
       "      <td>10</td>\n",
       "      <td>77300</td>\n",
       "    </tr>\n",
       "    <tr>\n",
       "      <th>2</th>\n",
       "      <td>15</td>\n",
       "      <td>85000</td>\n",
       "    </tr>\n",
       "    <tr>\n",
       "      <th>3</th>\n",
       "      <td>13</td>\n",
       "      <td>75120</td>\n",
       "    </tr>\n",
       "    <tr>\n",
       "      <th>4</th>\n",
       "      <td>12</td>\n",
       "      <td>90000</td>\n",
       "    </tr>\n",
       "  </tbody>\n",
       "</table>\n",
       "</div>"
      ],
      "text/plain": [
       "   Years_of_Experience  Salary\n",
       "0                    1   45000\n",
       "1                   10   77300\n",
       "2                   15   85000\n",
       "3                   13   75120\n",
       "4                   12   90000"
      ]
     },
     "execution_count": 59,
     "metadata": {},
     "output_type": "execute_result"
    }
   ],
   "source": [
    "#First 5 rows of dataset\n",
    "df.head()"
   ]
  },
  {
   "cell_type": "code",
   "execution_count": 60,
   "id": "cb367572-22c2-4d3d-9681-03e971563965",
   "metadata": {},
   "outputs": [
    {
     "data": {
      "text/html": [
       "<div>\n",
       "<style scoped>\n",
       "    .dataframe tbody tr th:only-of-type {\n",
       "        vertical-align: middle;\n",
       "    }\n",
       "\n",
       "    .dataframe tbody tr th {\n",
       "        vertical-align: top;\n",
       "    }\n",
       "\n",
       "    .dataframe thead th {\n",
       "        text-align: right;\n",
       "    }\n",
       "</style>\n",
       "<table border=\"1\" class=\"dataframe\">\n",
       "  <thead>\n",
       "    <tr style=\"text-align: right;\">\n",
       "      <th></th>\n",
       "      <th>Years_of_Experience</th>\n",
       "      <th>Salary</th>\n",
       "    </tr>\n",
       "  </thead>\n",
       "  <tbody>\n",
       "    <tr>\n",
       "      <th>104</th>\n",
       "      <td>13</td>\n",
       "      <td>95000</td>\n",
       "    </tr>\n",
       "    <tr>\n",
       "      <th>105</th>\n",
       "      <td>12</td>\n",
       "      <td>90000</td>\n",
       "    </tr>\n",
       "    <tr>\n",
       "      <th>106</th>\n",
       "      <td>2</td>\n",
       "      <td>40000</td>\n",
       "    </tr>\n",
       "    <tr>\n",
       "      <th>107</th>\n",
       "      <td>7</td>\n",
       "      <td>82450</td>\n",
       "    </tr>\n",
       "    <tr>\n",
       "      <th>108</th>\n",
       "      <td>6</td>\n",
       "      <td>70000</td>\n",
       "    </tr>\n",
       "  </tbody>\n",
       "</table>\n",
       "</div>"
      ],
      "text/plain": [
       "     Years_of_Experience  Salary\n",
       "104                   13   95000\n",
       "105                   12   90000\n",
       "106                    2   40000\n",
       "107                    7   82450\n",
       "108                    6   70000"
      ]
     },
     "execution_count": 60,
     "metadata": {},
     "output_type": "execute_result"
    }
   ],
   "source": [
    "#Last 5 rows of dataset\n",
    "df.tail()"
   ]
  },
  {
   "cell_type": "code",
   "execution_count": 61,
   "id": "bc17507b-2046-487f-9f80-853668790aaa",
   "metadata": {},
   "outputs": [
    {
     "data": {
      "text/plain": [
       "(109, 2)"
      ]
     },
     "execution_count": 61,
     "metadata": {},
     "output_type": "execute_result"
    }
   ],
   "source": [
    "#Shape of dataset\n",
    "df.shape"
   ]
  },
  {
   "cell_type": "code",
   "execution_count": 62,
   "id": "3e8fdc50-9b86-4b95-8241-d5adf6d6982a",
   "metadata": {},
   "outputs": [
    {
     "name": "stdout",
     "output_type": "stream",
     "text": [
      "<class 'pandas.core.frame.DataFrame'>\n",
      "RangeIndex: 109 entries, 0 to 108\n",
      "Data columns (total 2 columns):\n",
      " #   Column               Non-Null Count  Dtype\n",
      "---  ------               --------------  -----\n",
      " 0   Years_of_Experience  109 non-null    int64\n",
      " 1   Salary               109 non-null    int64\n",
      "dtypes: int64(2)\n",
      "memory usage: 1.8 KB\n"
     ]
    }
   ],
   "source": [
    "#Information about columns\n",
    "df.info()"
   ]
  },
  {
   "cell_type": "code",
   "execution_count": 63,
   "id": "006b4eb5-6ab3-4450-a7fe-e4bd55c0fd0d",
   "metadata": {},
   "outputs": [
    {
     "data": {
      "text/html": [
       "<div>\n",
       "<style scoped>\n",
       "    .dataframe tbody tr th:only-of-type {\n",
       "        vertical-align: middle;\n",
       "    }\n",
       "\n",
       "    .dataframe tbody tr th {\n",
       "        vertical-align: top;\n",
       "    }\n",
       "\n",
       "    .dataframe thead th {\n",
       "        text-align: right;\n",
       "    }\n",
       "</style>\n",
       "<table border=\"1\" class=\"dataframe\">\n",
       "  <thead>\n",
       "    <tr style=\"text-align: right;\">\n",
       "      <th></th>\n",
       "      <th>Years_of_Experience</th>\n",
       "      <th>Salary</th>\n",
       "    </tr>\n",
       "  </thead>\n",
       "  <tbody>\n",
       "    <tr>\n",
       "      <th>count</th>\n",
       "      <td>109.000000</td>\n",
       "      <td>109.000000</td>\n",
       "    </tr>\n",
       "    <tr>\n",
       "      <th>mean</th>\n",
       "      <td>7.954128</td>\n",
       "      <td>70110.321101</td>\n",
       "    </tr>\n",
       "    <tr>\n",
       "      <th>std</th>\n",
       "      <td>4.321320</td>\n",
       "      <td>20152.959119</td>\n",
       "    </tr>\n",
       "    <tr>\n",
       "      <th>min</th>\n",
       "      <td>1.000000</td>\n",
       "      <td>35000.000000</td>\n",
       "    </tr>\n",
       "    <tr>\n",
       "      <th>25%</th>\n",
       "      <td>4.000000</td>\n",
       "      <td>55000.000000</td>\n",
       "    </tr>\n",
       "    <tr>\n",
       "      <th>50%</th>\n",
       "      <td>8.000000</td>\n",
       "      <td>70000.000000</td>\n",
       "    </tr>\n",
       "    <tr>\n",
       "      <th>75%</th>\n",
       "      <td>12.000000</td>\n",
       "      <td>85230.000000</td>\n",
       "    </tr>\n",
       "    <tr>\n",
       "      <th>max</th>\n",
       "      <td>15.000000</td>\n",
       "      <td>105000.000000</td>\n",
       "    </tr>\n",
       "  </tbody>\n",
       "</table>\n",
       "</div>"
      ],
      "text/plain": [
       "       Years_of_Experience         Salary\n",
       "count           109.000000     109.000000\n",
       "mean              7.954128   70110.321101\n",
       "std               4.321320   20152.959119\n",
       "min               1.000000   35000.000000\n",
       "25%               4.000000   55000.000000\n",
       "50%               8.000000   70000.000000\n",
       "75%              12.000000   85230.000000\n",
       "max              15.000000  105000.000000"
      ]
     },
     "execution_count": 63,
     "metadata": {},
     "output_type": "execute_result"
    }
   ],
   "source": [
    "#Statistical information about dataset\n",
    "df.describe()"
   ]
  },
  {
   "cell_type": "code",
   "execution_count": 64,
   "id": "38ae6fe1-1d63-463b-9b97-d5bb061be966",
   "metadata": {},
   "outputs": [],
   "source": [
    "#Input----Feature----X\n",
    "X=df['Years_of_Experience']\n",
    "\n",
    "\n",
    "\n",
    "#Output---y\n",
    "y=df['Salary']"
   ]
  },
  {
   "cell_type": "code",
   "execution_count": 41,
   "id": "a26d9396-12bd-46df-9420-19f445ea0344",
   "metadata": {},
   "outputs": [
    {
     "name": "stdout",
     "output_type": "stream",
     "text": [
      "<class 'pandas.core.series.Series'>\n",
      "<class 'pandas.core.series.Series'>\n"
     ]
    }
   ],
   "source": [
    "print(type(X))\n",
    "print(type(y))"
   ]
  },
  {
   "cell_type": "code",
   "execution_count": 67,
   "id": "4e7ec47b-92e6-466b-96e7-d47fb0f6acd4",
   "metadata": {},
   "outputs": [
    {
     "data": {
      "image/png": "[encoded data removed]",
      "text/plain": [
       "<Figure size 1200x800 with 1 Axes>"
      ]
     },
     "metadata": {},
     "output_type": "display_data"
    }
   ],
   "source": [
    "#Let's visualize the dataset\n",
    "plt.figure(figsize=(12, 8))\n",
    "sns.scatterplot(data=df, x='Years_of_Experience', y='Salary', color='orange')\n",
    "\n",
    "plt.title('Years of Experience - Salary')\n",
    "plt.show()"
   ]
  },
  {
   "cell_type": "code",
   "execution_count": 68,
   "id": "319344ef-385b-4fb7-8b47-f1e6b1c5dd57",
   "metadata": {},
   "outputs": [
    {
     "name": "stdout",
     "output_type": "stream",
     "text": [
      "<class 'pandas.core.series.Series'>\n",
      "<class 'pandas.core.series.Series'>\n"
     ]
    }
   ],
   "source": [
    "# Type of X and y\n",
    "print(type(X))\n",
    "print(type(y))"
   ]
  },
  {
   "cell_type": "markdown",
   "id": "346f8c29-13ba-488a-883c-6f99a9e1638f",
   "metadata": {},
   "source": [
    "## Let's build the model"
   ]
  },
  {
   "cell_type": "code",
   "execution_count": 69,
   "id": "63e0c574-201c-4ad9-915a-da107377a317",
   "metadata": {},
   "outputs": [],
   "source": [
    "model=LinearRegression()"
   ]
  },
  {
   "cell_type": "code",
   "execution_count": 70,
   "id": "8203f62f-08f5-4631-bf40-c34df6ec1f69",
   "metadata": {},
   "outputs": [
    {
     "data": {
      "text/plain": [
       "((109,), (109,))"
      ]
     },
     "execution_count": 70,
     "metadata": {},
     "output_type": "execute_result"
    }
   ],
   "source": [
    "#Shape of X and y\n",
    "X.shape,y.shape"
   ]
  },
  {
   "cell_type": "code",
   "execution_count": 71,
   "id": "2adcaf8c-cf5d-4429-a842-837fa95293c4",
   "metadata": {},
   "outputs": [],
   "source": [
    "#We need to resize X and y\n",
    "X=X.values.reshape(-1,1)\n",
    "y=y.values.reshape(-1,1)"
   ]
  },
  {
   "cell_type": "code",
   "execution_count": 72,
   "id": "8f532478-094a-4e8c-8890-e8b724eca865",
   "metadata": {},
   "outputs": [
    {
     "data": {
      "text/plain": [
       "((109, 1), (109, 1))"
      ]
     },
     "execution_count": 72,
     "metadata": {},
     "output_type": "execute_result"
    }
   ],
   "source": [
    "#Let's check again the shape of X and y\n",
    "X.shape,y.shape"
   ]
  },
  {
   "cell_type": "markdown",
   "id": "4c9be462-18d0-4f17-ab60-694bc917c370",
   "metadata": {},
   "source": [
    "## Train Test Split "
   ]
  },
  {
   "cell_type": "markdown",
   "id": "d6e31d1f-9bf6-4244-b534-2fc6156764b9",
   "metadata": {},
   "source": [
    "Let's split the dataset Train and Test..\n",
    "\n",
    "%70---Train Data\n",
    "\n",
    "%30---Test Data"
   ]
  },
  {
   "cell_type": "code",
   "execution_count": 73,
   "id": "67f299dd-19b4-42fd-af0b-2af5e3fc04b2",
   "metadata": {},
   "outputs": [],
   "source": [
    "X_train, X_test, y_train, y_test = train_test_split(X, y, test_size=0.30, random_state=100)"
   ]
  },
  {
   "cell_type": "code",
   "execution_count": 74,
   "id": "b73b359b-4407-47aa-95e5-feaae0bfaba0",
   "metadata": {},
   "outputs": [
    {
     "data": {
      "text/plain": [
       "((76, 1), (76, 1), (33, 1), (33, 1))"
      ]
     },
     "execution_count": 74,
     "metadata": {},
     "output_type": "execute_result"
    }
   ],
   "source": [
    "X_train.shape,y_train.shape, X_test.shape, y_test.shape"
   ]
  },
  {
   "cell_type": "markdown",
   "id": "cbaa109a-ad31-4389-8fea-c9ee0e25fb46",
   "metadata": {},
   "source": [
    "## Run Linear Regression Model "
   ]
  },
  {
   "cell_type": "code",
   "execution_count": 75,
   "id": "aa7fa638-98ef-4c89-9da9-aff98d8fdd0a",
   "metadata": {},
   "outputs": [
    {
     "data": {
      "text/plain": [
       "LinearRegression()"
      ]
     },
     "execution_count": 75,
     "metadata": {},
     "output_type": "execute_result"
    }
   ],
   "source": [
    "model.fit(X_train,y_train)"
   ]
  },
  {
   "cell_type": "markdown",
   "id": "37b68d4e-af33-4548-b2c5-8596a065af31",
   "metadata": {},
   "source": [
    "## Calculating Coefficients (intercept_, coef_)"
   ]
  },
  {
   "cell_type": "markdown",
   "id": "dbc308d0-7772-434d-96dc-9b38b10a76b1",
   "metadata": {},
   "source": [
    "$\\beta_0$ -> intercept\n",
    "\n",
    "$\\beta_1$ -> slope (coefficient)"
   ]
  },
  {
   "cell_type": "code",
   "execution_count": 76,
   "id": "a8c151a2-7817-423a-8519-837de2ee7a85",
   "metadata": {},
   "outputs": [
    {
     "data": {
      "text/plain": [
       "array([35498.91369635])"
      ]
     },
     "execution_count": 76,
     "metadata": {},
     "output_type": "execute_result"
    }
   ],
   "source": [
    "model.intercept_"
   ]
  },
  {
   "cell_type": "code",
   "execution_count": 77,
   "id": "afd1c42c-c5dd-4e74-80d1-142f405271cb",
   "metadata": {},
   "outputs": [
    {
     "data": {
      "text/plain": [
       "array([[4404.04985168]])"
      ]
     },
     "execution_count": 77,
     "metadata": {},
     "output_type": "execute_result"
    }
   ],
   "source": [
    "model.coef_"
   ]
  },
  {
   "cell_type": "markdown",
   "id": "f2948d68-e462-4c0e-9699-a8ad5617754a",
   "metadata": {},
   "source": [
    "$$ y = 35498.91 + 4404.04 X $$"
   ]
  },
  {
   "cell_type": "markdown",
   "id": "927d0824-93f7-468a-82f1-264e8b83604c",
   "metadata": {},
   "source": [
    "## Prediction"
   ]
  },
  {
   "cell_type": "code",
   "execution_count": 80,
   "id": "12914684-65b5-46d2-9e95-e353b94bcb63",
   "metadata": {},
   "outputs": [],
   "source": [
    "y_pred=model.predict(X_test)"
   ]
  },
  {
   "cell_type": "code",
   "execution_count": 81,
   "id": "14e032b8-6859-44f5-9137-7de02b0f167a",
   "metadata": {},
   "outputs": [
    {
     "data": {
      "text/plain": [
       "array([[53115.11310306],\n",
       "       [66327.26265808],\n",
       "       [66327.26265808],\n",
       "       [57519.16295473],\n",
       "       [48711.06325138],\n",
       "       [75135.36236143],\n",
       "       [70731.31250976],\n",
       "       [97155.61161981],\n",
       "       [44307.0133997 ],\n",
       "       [97155.61161981]])"
      ]
     },
     "execution_count": 81,
     "metadata": {},
     "output_type": "execute_result"
    }
   ],
   "source": [
    "#Our prediction\n",
    "y_pred[0:10]"
   ]
  },
  {
   "cell_type": "code",
   "execution_count": 82,
   "id": "cabe2f6e-59c4-4f99-80ef-1b3a27b403e1",
   "metadata": {},
   "outputs": [
    {
     "data": {
      "text/plain": [
       "array([[ 50000],\n",
       "       [ 65000],\n",
       "       [ 65000],\n",
       "       [ 55000],\n",
       "       [ 45000],\n",
       "       [ 75000],\n",
       "       [ 70000],\n",
       "       [100000],\n",
       "       [ 52110],\n",
       "       [ 90010]], dtype=int64)"
      ]
     },
     "execution_count": 82,
     "metadata": {},
     "output_type": "execute_result"
    }
   ],
   "source": [
    "#Test Data\n",
    "y_test[0:10]"
   ]
  },
  {
   "cell_type": "code",
   "execution_count": 83,
   "id": "aee294ea-a068-42dd-a1f2-57cd15f9d260",
   "metadata": {},
   "outputs": [
    {
     "name": "stdout",
     "output_type": "stream",
     "text": [
      "(33, 1)\n",
      "(33, 1)\n"
     ]
    }
   ],
   "source": [
    "#Shape our prediction and test\n",
    "print(y_pred.shape)\n",
    "print(y_test.shape)"
   ]
  },
  {
   "cell_type": "markdown",
   "id": "7e194817-fd60-4e7f-a2c0-cad928bc4dd6",
   "metadata": {},
   "source": [
    "## Plot Real Data and Prediction Data"
   ]
  },
  {
   "cell_type": "markdown",
   "id": "94d19f12-7bc5-4fbd-b7d2-6a22e4bfe4f0",
   "metadata": {},
   "source": [
    "Real Label -> y_test\n",
    "\n",
    "Prediction Label -> y_pred\n",
    "\n",
    "Input -> X_test"
   ]
  },
  {
   "cell_type": "code",
   "execution_count": 84,
   "id": "758b68d8-f016-4335-a95f-11ad7eb48989",
   "metadata": {},
   "outputs": [
    {
     "data": {
      "image/png": "[encoded data removed]",
      "text/plain": [
       "<Figure size 1200x800 with 1 Axes>"
      ]
     },
     "metadata": {},
     "output_type": "display_data"
    }
   ],
   "source": [
    "# Real Data -> Grand Truth\n",
    "fig, ax = plt.subplots(figsize=(12,8))\n",
    "ax.scatter(X_test, y_test, label='Grand Truth', color='red')\n",
    "\n",
    "# Prediction\n",
    "ax.scatter(X_test, y_pred, label='Prediction', color='green')\n",
    "\n",
    "plt.title('SALARY - YEARS OF EXPERIENCE- PREDICTION')\n",
    "plt.xlabel('YEARS OF EXPERIENCE')\n",
    "plt.ylabel('SALARY')\n",
    "plt.legend(loc='upper left')\n",
    "plt.show()"
   ]
  },
  {
   "cell_type": "code",
   "execution_count": 85,
   "id": "f4d485eb-18a1-4e3a-bf37-9fb8f9c98709",
   "metadata": {},
   "outputs": [
    {
     "data": {
      "image/png": "[encoded data removed]",
      "text/plain": [
       "<Figure size 1200x800 with 1 Axes>"
      ]
     },
     "metadata": {},
     "output_type": "display_data"
    }
   ],
   "source": [
    "#Let's see the change in each prediction point\n",
    "indexs=range(1,34)\n",
    "\n",
    "# Real Data -> Grand Truth\n",
    "fig, ax = plt.subplots(figsize=(12,8))\n",
    "ax.scatter(indexs, y_test, label='Grand Truth', color='red')\n",
    "\n",
    "# Prediction\n",
    "ax.scatter(indexs, y_pred, label='Prediction', color='green')\n",
    "\n",
    "plt.title('REAL--PREDICTION')\n",
    "plt.xlabel('Data Index')\n",
    "plt.ylabel('SALARY')\n",
    "plt.legend(loc='upper left')\n",
    "plt.show()"
   ]
  },
  {
   "cell_type": "markdown",
   "id": "f2a2b2ca-9fc4-4b59-9610-84fbdd993e7e",
   "metadata": {},
   "source": [
    "## Let's Draw Errors ($y - \\hat y$)"
   ]
  },
  {
   "cell_type": "markdown",
   "id": "6231d9fe-5eae-4f08-8fd9-71751405c303",
   "metadata": {},
   "source": [
    "Error : Residual -> ($y - \\hat y$)\n",
    "\n",
    "**y_test - y_pred**"
   ]
  },
  {
   "cell_type": "code",
   "execution_count": 88,
   "id": "85ad929e-a8ec-4f48-8724-0771af40a53e",
   "metadata": {},
   "outputs": [
    {
     "data": {
      "image/png": "[encoded data removed]",
      "text/plain": [
       "<Figure size 1200x800 with 1 Axes>"
      ]
     },
     "metadata": {},
     "output_type": "display_data"
    }
   ],
   "source": [
    "#Let's see the error in each prediction point\n",
    "indexs=range(1,34)\n",
    "\n",
    "# Residuals\n",
    "fig, ax = plt.subplots(figsize=(12,8))\n",
    "ax.scatter(indexs, y_test-y_pred, label='Residuals', color='red')\n",
    "\n",
    "# The zero line\n",
    "ax.scatter(indexs, np.zeros(33), color='green')\n",
    "\n",
    "plt.title('Residuals')\n",
    "plt.xlabel('Data Index')\n",
    "plt.ylabel('SALARY')\n",
    "plt.legend(loc='upper left')\n",
    "plt.show()"
   ]
  },
  {
   "cell_type": "markdown",
   "id": "1fc05be2-768f-4c24-b6c0-4b8d2abff236",
   "metadata": {},
   "source": [
    "## Accuracy of model (RMSE, ve $R^2$)"
   ]
  },
  {
   "cell_type": "markdown",
   "id": "5e1964b3-aa30-4a29-9921-d0673a8e6677",
   "metadata": {},
   "source": [
    "**RMSE**: Root Mean Squared Error\n",
    "\n",
    "Square root of MSE\n",
    "\n",
    "$R^2$: `coefficient of determination`."
   ]
  },
  {
   "cell_type": "code",
   "execution_count": 92,
   "id": "6ff210f8-2b08-4f54-b30d-fc4bd0dd5207",
   "metadata": {},
   "outputs": [
    {
     "name": "stdout",
     "output_type": "stream",
     "text": [
      "R^2 %: 80.41141992921268\n"
     ]
    }
   ],
   "source": [
    "#Let's calculate R^s\n",
    "r_2=r2_score(y_test,y_pred)\n",
    "print('R^2 %:',r_2*100)"
   ]
  },
  {
   "cell_type": "code",
   "execution_count": 93,
   "id": "520ddb79-1517-48c1-a167-7809c3057da1",
   "metadata": {},
   "outputs": [
    {
     "name": "stdout",
     "output_type": "stream",
     "text": [
      "MSE: 70526565.50323258\n"
     ]
    }
   ],
   "source": [
    "#Let's calculate MSE\n",
    "MSE=mean_squared_error(y_test,y_pred)\n",
    "print('MSE:',MSE)"
   ]
  },
  {
   "cell_type": "code",
   "execution_count": 94,
   "id": "8a4af04c-5c3a-450a-a9db-4ee61d30dfa8",
   "metadata": {},
   "outputs": [
    {
     "name": "stdout",
     "output_type": "stream",
     "text": [
      "RMSE: 8398.009615571573\n"
     ]
    }
   ],
   "source": [
    "#Let's calculate RMSE\n",
    "RMSE=math.sqrt(MSE)\n",
    "print('RMSE:',RMSE)"
   ]
  },
  {
   "cell_type": "markdown",
   "id": "39688976-4679-466b-b659-ec6706691c5e",
   "metadata": {},
   "source": [
    "## Interpretations"
   ]
  },
  {
   "cell_type": "markdown",
   "id": "f916bd08-472d-40b4-9a20-781b30698618",
   "metadata": {},
   "source": [
    "**$R^2$ = 80.41%**\n",
    "\n",
    "This means:\n",
    "\n",
    "Our model represents 80.41% of real data."
   ]
  },
  {
   "cell_type": "markdown",
   "id": "81f07ff6-142e-40cf-9952-55905ad64081",
   "metadata": {},
   "source": [
    "**RMSE = 8398**\n",
    "\n",
    "\n",
    "This means:\n",
    "\n",
    "Our model makes an error of 8398 on average when estimating."
   ]
  },
  {
   "cell_type": "code",
   "execution_count": null,
   "id": "de9bfbfe-777e-4d63-83e0-10f06009e087",
   "metadata": {},
   "outputs": [],
   "source": []
  }
 ],
 "metadata": {
  "kernelspec": {
   "display_name": "Python 3 (ipykernel)",
   "language": "python",
   "name": "python3"
  },
  "language_info": {
   "codemirror_mode": {
    "name": "ipython",
    "version": 3
   },
   "file_extension": ".py",
   "mimetype": "text/x-python",
   "name": "python",
   "nbconvert_exporter": "python",
   "pygments_lexer": "ipython3",
   "version": "3.9.13"
  }
 },
 "nbformat": 4,
 "nbformat_minor": 5
}
